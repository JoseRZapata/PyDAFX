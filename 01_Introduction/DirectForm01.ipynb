{
 "cells": [
  {
   "cell_type": "markdown",
   "metadata": {},
   "source": [
    "# M_files_chap01/DirectForm01.m\n",
    "\n",
    "Impulse response of 2nd order IIR filter\n",
    "Sample-by-sample algorithm\n",
    "\n",
    "Python implementation of the MATLAB code from the book:\n",
    "\n",
    "<b>DAFX - Digital Audio Effects</b> <br>\n",
    "Edited by Udo Zölzer<br>\n",
    "ISBN: 978-0-470-66599-2<br>\n",
    "Second Edition, John Wiley & Sons, 2011<br>\n",
    "Matlab files source: http://ant-s4.unibw-hamburg.de/dafx/DAFX_Book_Page_2nd_edition/matlab.html"
   ]
  },
  {
   "cell_type": "code",
   "execution_count": 24,
   "metadata": {
    "collapsed": false
   },
   "outputs": [],
   "source": [
    "%matplotlib inline\n",
    "import matplotlib.pyplot as plt"
   ]
  },
  {
   "cell_type": "code",
   "execution_count": 17,
   "metadata": {
    "collapsed": false
   },
   "outputs": [],
   "source": [
    "# Coefficients for a high-pass\n",
    "a=[1, -1.28, 0.47];\n",
    "b=[0.69, -1.38, 0.69];\n",
    "\n",
    "# Initialization of state variables\n",
    "xh1 = 0; xh2 = 0;\n",
    "yh1 = 0; yh2 = 0;\n",
    "\n",
    "# Input signal: unit impulse\n",
    "N = 20;  # length of input signal\n",
    "x = [0]*N\n",
    "x[0] = 1\n",
    "y = []\n",
    "# Sample-by-sample algorithm\n",
    "for n in range(N):\n",
    "    y.append(b[0]*x[n] + b[1]*xh1 + b[2]*xh2 - a[1]*yh1 - a[2]*yh2)\n",
    "    xh2 = xh1; xh1 = x[n];\n",
    "    yh2 = yh1; yh1 = y[n];"
   ]
  },
  {
   "cell_type": "code",
   "execution_count": 37,
   "metadata": {
    "collapsed": false
   },
   "outputs": [
    {
     "data": {
      "image/png": "[encoded data removed]",
      "text/plain": [
       "<matplotlib.figure.Figure at 0x7f62454bf1d0>"
      ]
     },
     "metadata": {},
     "output_type": "display_data"
    }
   ],
   "source": [
    "# Plot results\n",
    "plt.rcParams['figure.figsize'] = (10, 8)# figure size\n",
    "plt.subplot(211)\n",
    "plt.stem(x);plt.axis([-0.6, len(x), -0.8, 1.2]);\n",
    "plt.xlabel('n');plt.ylabel('x(n)');\n",
    "plt.subplot(212)\n",
    "plt.stem(y);plt.axis([-0.6, len(x), -0.8, 1.2]);\n",
    "plt.xlabel('n');plt.ylabel('y(n)');\n",
    "\n",
    "plt.tight_layout()\n",
    "plt.show()"
   ]
  }
 ],
 "metadata": {
  "kernelspec": {
   "display_name": "Python 2",
   "language": "python",
   "name": "python2"
  },
  "language_info": {
   "codemirror_mode": {
    "name": "ipython",
    "version": 2
   },
   "file_extension": ".py",
   "mimetype": "text/x-python",
   "name": "python",
   "nbconvert_exporter": "python",
   "pygments_lexer": "ipython2",
   "version": "2.7.6"
  }
 },
 "nbformat": 4,
 "nbformat_minor": 0
}
