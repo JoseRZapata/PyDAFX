{
 "cells": [
  {
   "cell_type": "markdown",
   "metadata": {},
   "source": [
    "# M_files_chap01/figure1_03.m\n",
    "\n",
    "Python implementation of the MATLAB code from the book:\n",
    "\n",
    "<b>DAFX - Digital Audio Effects</b> <br>\n",
    "Edited by Udo Zölzer<br>\n",
    "ISBN: 978-0-470-66599-2<br>\n",
    "Second Edition, John Wiley & Sons, 2011<br>\n",
    "Matlab files source: http://ant-s4.unibw-hamburg.de/dafx/DAFX_Book_Page_2nd_edition/matlab.html\n"
   ]
  },
  {
   "cell_type": "code",
   "execution_count": 7,
   "metadata": {
    "collapsed": false
   },
   "outputs": [],
   "source": [
    "import numpy as np\n",
    "import matplotlib.pyplot as plt\n",
    "%matplotlib inline\n",
    "from scipy.io import wavfile\n",
    "import IPython\n",
    "from IPython.display import Audio"
   ]
  },
  {
   "cell_type": "code",
   "execution_count": 13,
   "metadata": {
    "collapsed": false
   },
   "outputs": [
    {
     "ename": "NameError",
     "evalue": "name 'IPython' is not defined",
     "output_type": "error",
     "traceback": [
      "\u001b[1;31m---------------------------------------------------------------------------\u001b[0m",
      "\u001b[1;31mNameError\u001b[0m                                 Traceback (most recent call last)",
      "\u001b[1;32m<ipython-input-13-8ec992597000>\u001b[0m in \u001b[0;36m<module>\u001b[1;34m()\u001b[0m\n\u001b[0;32m      1\u001b[0m \u001b[0mAudioFileName\u001b[0m \u001b[1;33m=\u001b[0m \u001b[1;34m\"ton2.wav\"\u001b[0m\u001b[1;33m\u001b[0m\u001b[0m\n\u001b[1;32m----> 2\u001b[1;33m \u001b[0mIPython\u001b[0m\u001b[1;33m.\u001b[0m\u001b[0mdisplay\u001b[0m\u001b[1;33m.\u001b[0m\u001b[0mAudio\u001b[0m\u001b[1;33m(\u001b[0m\u001b[0mAudioFileName\u001b[0m\u001b[1;33m)\u001b[0m\u001b[1;33m\u001b[0m\u001b[0m\n\u001b[0m",
      "\u001b[1;31mNameError\u001b[0m: name 'IPython' is not defined"
     ]
    }
   ],
   "source": [
    "AudioFileName = \"ton2.wav\"\n",
    "IPython.display.Audio(AudioFileName)"
   ]
  },
  {
   "cell_type": "code",
   "execution_count": null,
   "metadata": {
    "collapsed": false
   },
   "outputs": [],
   "source": [
    "# Load audio File\n",
    "fs, data = wavfile.read(AudioFileName)\n",
    "print(AudioFileName+', Sample Rate = '+str(fs))"
   ]
  },
  {
   "cell_type": "code",
   "execution_count": null,
   "metadata": {
    "collapsed": false,
    "scrolled": true
   },
   "outputs": [],
   "source": [
    "# Plot audio signal\n",
    "plt.rcParams['figure.figsize'] = (14, 6)# figure size\n",
    "\n",
    "plt.subplot(311)\n",
    "plt.plot(data[:8000])\n",
    "plt.ylabel('x (n)')\n",
    "\n",
    "plt.subplot(312)\n",
    "plt.plot(data[:1000])\n",
    "plt.ylabel('x (n)')\n",
    "\n",
    "plt.subplot(313)\n",
    "plt.stem(data[:100])\n",
    "plt.ylabel('x [n]')\n",
    "\n",
    "plt.show()"
   ]
  }
 ],
 "metadata": {
  "kernelspec": {
   "display_name": "Python 2",
   "language": "python",
   "name": "python2"
  },
  "language_info": {
   "codemirror_mode": {
    "name": "ipython",
    "version": 2
   },
   "file_extension": ".py",
   "mimetype": "text/x-python",
   "name": "python",
   "nbconvert_exporter": "python",
   "pygments_lexer": "ipython2",
   "version": "2.7.6"
  }
 },
 "nbformat": 4,
 "nbformat_minor": 0
}
